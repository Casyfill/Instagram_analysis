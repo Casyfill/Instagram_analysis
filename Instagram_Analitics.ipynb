{
 "cells": [
  {
   "cell_type": "code",
   "execution_count": 76,
   "metadata": {
    "collapsed": true
   },
   "outputs": [],
   "source": [
    "import pandas as pd\n",
    "import requests\n",
    "from bs4 import BeautifulSoup\n",
    "import dateutil\n",
    "import json"
   ]
  },
  {
   "cell_type": "code",
   "execution_count": 197,
   "metadata": {
    "collapsed": false
   },
   "outputs": [
    {
     "name": "stderr",
     "output_type": "stream",
     "text": [
      "/Users/casy/anaconda/lib/python2.7/site-packages/matplotlib/font_manager.py:273: UserWarning: Matplotlib is building the font cache using fc-list. This may take a moment.\n",
      "  warnings.warn('Matplotlib is building the font cache using fc-list. This may take a moment.')\n"
     ]
    }
   ],
   "source": [
    "%matplotlib inline\n",
    "import pylab as plt"
   ]
  },
  {
   "cell_type": "code",
   "execution_count": 235,
   "metadata": {
    "collapsed": true
   },
   "outputs": [],
   "source": [
    "df = pd.read_csv('https://docs.google.com/spreadsheets/d/1XmcuQM1DUPL9rIwnGJIJ26qI7sm3gOSPIk0Z01F7q-o/pub?output=csv')"
   ]
  },
  {
   "cell_type": "code",
   "execution_count": 237,
   "metadata": {
    "collapsed": false
   },
   "outputs": [],
   "source": [
    "df['link'] = df.link.str.replace('/?taken-by=archianya','')"
   ]
  },
  {
   "cell_type": "code",
   "execution_count": 238,
   "metadata": {
    "collapsed": false
   },
   "outputs": [
    {
     "data": {
      "text/html": [
       "<div>\n",
       "<table border=\"1\" class=\"dataframe\">\n",
       "  <thead>\n",
       "    <tr style=\"text-align: right;\">\n",
       "      <th></th>\n",
       "      <th>text</th>\n",
       "      <th>img</th>\n",
       "      <th>link</th>\n",
       "    </tr>\n",
       "  </thead>\n",
       "  <tbody>\n",
       "    <tr>\n",
       "      <th>0</th>\n",
       "      <td>to dabble in - заниматься чем-либо как хобби, ...</td>\n",
       "      <td>https://scontent-lga3-1.cdninstagram.com/t51.2...</td>\n",
       "      <td>/p/BI6IhzGAkrm/?</td>\n",
       "    </tr>\n",
       "    <tr>\n",
       "      <th>1</th>\n",
       "      <td>Credulous (kreh juh luhs) - too trusting, gull...</td>\n",
       "      <td>https://scontent-lga3-1.cdninstagram.com/t51.2...</td>\n",
       "      <td>/p/BIx2eFaAf5g/?</td>\n",
       "    </tr>\n",
       "    <tr>\n",
       "      <th>2</th>\n",
       "      <td>Kerfuffle [kərˈfəfəl] - a commotion or fuss, e...</td>\n",
       "      <td>https://scontent-lga3-1.cdninstagram.com/t51.2...</td>\n",
       "      <td>/p/BIiEr_nAqwL/?</td>\n",
       "    </tr>\n",
       "    <tr>\n",
       "      <th>3</th>\n",
       "      <td>When André asked to clean the windshield, the ...</td>\n",
       "      <td>https://scontent-lga3-1.cdninstagram.com/t51.2...</td>\n",
       "      <td>/p/BIWUiQwAoEk/?</td>\n",
       "    </tr>\n",
       "  </tbody>\n",
       "</table>\n",
       "</div>"
      ],
      "text/plain": [
       "                                                text  \\\n",
       "0  to dabble in - заниматься чем-либо как хобби, ...   \n",
       "1  Credulous (kreh juh luhs) - too trusting, gull...   \n",
       "2  Kerfuffle [kərˈfəfəl] - a commotion or fuss, e...   \n",
       "3  When André asked to clean the windshield, the ...   \n",
       "\n",
       "                                                 img              link  \n",
       "0  https://scontent-lga3-1.cdninstagram.com/t51.2...  /p/BI6IhzGAkrm/?  \n",
       "1  https://scontent-lga3-1.cdninstagram.com/t51.2...  /p/BIx2eFaAf5g/?  \n",
       "2  https://scontent-lga3-1.cdninstagram.com/t51.2...  /p/BIiEr_nAqwL/?  \n",
       "3  https://scontent-lga3-1.cdninstagram.com/t51.2...  /p/BIWUiQwAoEk/?  "
      ]
     },
     "execution_count": 238,
     "metadata": {},
     "output_type": "execute_result"
    }
   ],
   "source": [
    "df.head(4)"
   ]
  },
  {
   "cell_type": "code",
   "execution_count": 239,
   "metadata": {
    "collapsed": false
   },
   "outputs": [
    {
     "data": {
      "text/plain": [
       "(312, 3)"
      ]
     },
     "execution_count": 239,
     "metadata": {},
     "output_type": "execute_result"
    }
   ],
   "source": [
    "df.shape"
   ]
  },
  {
   "cell_type": "code",
   "execution_count": 240,
   "metadata": {
    "collapsed": false
   },
   "outputs": [],
   "source": [
    "def getInfo(link, sleep=1):\n",
    "    '''gets info for photo: date, likes, comments'''\n",
    "    if sleep is not None and sleep is int:\n",
    "        time.sleep(sleep)\n",
    "    \n",
    "    try:\n",
    "        \n",
    "        url = 'https://www.instagram.com{}'.format(link)\n",
    "        c = requests.get(url).text\n",
    "        soup = BeautifulSoup(c)\n",
    "\n",
    "        raw_date = soup.find_all(\"meta\")[9]['content'].split(u'â¢ ')[1]\n",
    "        date = dateutil.parser.parse(raw_date)\n",
    "\n",
    "        raw_likes = soup.find_all(\"meta\")[11]['content'] \n",
    "        if u'â¢ ' in raw_likes:\n",
    "            likes = int(raw_likes.split(u'â¢ ')[1].split()[0])\n",
    "        else:\n",
    "            likes = 0\n",
    "\n",
    "        raw_comments = soup.find_all('script', {'type':\"text/javascript\"})[4].text[21:-1]\n",
    "        d = json.loads(raw_comments)\n",
    "\n",
    "        comments = int(d['entry_data']['PostPage'][0]['media']['comments']['count'])\n",
    "        return {'link':link, 'date':date, 'likes':likes, 'comments':comments}\n",
    "    \n",
    "    except Exception, e:\n",
    "        print link, str(e)"
   ]
  },
  {
   "cell_type": "code",
   "execution_count": 241,
   "metadata": {
    "collapsed": false
   },
   "outputs": [],
   "source": [
    "infos = df.link.apply(getInfo).tolist()"
   ]
  },
  {
   "cell_type": "code",
   "execution_count": 266,
   "metadata": {
    "collapsed": false
   },
   "outputs": [],
   "source": [
    "result = {k:[x[k] for x in infos] for k in infos[0].keys()}"
   ]
  },
  {
   "cell_type": "code",
   "execution_count": 267,
   "metadata": {
    "collapsed": false
   },
   "outputs": [],
   "source": [
    "additional = pd.DataFrame(result)"
   ]
  },
  {
   "cell_type": "code",
   "execution_count": 272,
   "metadata": {
    "collapsed": false
   },
   "outputs": [],
   "source": [
    "df2 = df.merge(additional, on='link', how='left').set_index('date')"
   ]
  },
  {
   "cell_type": "code",
   "execution_count": 273,
   "metadata": {
    "collapsed": false
   },
   "outputs": [
    {
     "data": {
      "text/html": [
       "<div>\n",
       "<table border=\"1\" class=\"dataframe\">\n",
       "  <thead>\n",
       "    <tr style=\"text-align: right;\">\n",
       "      <th></th>\n",
       "      <th>text</th>\n",
       "      <th>img</th>\n",
       "      <th>link</th>\n",
       "      <th>comments</th>\n",
       "      <th>likes</th>\n",
       "    </tr>\n",
       "    <tr>\n",
       "      <th>date</th>\n",
       "      <th></th>\n",
       "      <th></th>\n",
       "      <th></th>\n",
       "      <th></th>\n",
       "      <th></th>\n",
       "    </tr>\n",
       "  </thead>\n",
       "  <tbody>\n",
       "    <tr>\n",
       "      <th>2016-08-10 00:37:00+00:00</th>\n",
       "      <td>to dabble in - заниматься чем-либо как хобби, ...</td>\n",
       "      <td>https://scontent-lga3-1.cdninstagram.com/t51.2...</td>\n",
       "      <td>/p/BI6IhzGAkrm/?</td>\n",
       "      <td>1</td>\n",
       "      <td>127</td>\n",
       "    </tr>\n",
       "    <tr>\n",
       "      <th>2016-08-06 19:26:00+00:00</th>\n",
       "      <td>Credulous (kreh juh luhs) - too trusting, gull...</td>\n",
       "      <td>https://scontent-lga3-1.cdninstagram.com/t51.2...</td>\n",
       "      <td>/p/BIx2eFaAf5g/?</td>\n",
       "      <td>4</td>\n",
       "      <td>97</td>\n",
       "    </tr>\n",
       "    <tr>\n",
       "      <th>2016-07-31 16:22:00+00:00</th>\n",
       "      <td>Kerfuffle [kərˈfəfəl] - a commotion or fuss, e...</td>\n",
       "      <td>https://scontent-lga3-1.cdninstagram.com/t51.2...</td>\n",
       "      <td>/p/BIiEr_nAqwL/?</td>\n",
       "      <td>4</td>\n",
       "      <td>125</td>\n",
       "    </tr>\n",
       "    <tr>\n",
       "      <th>2016-07-27 02:50:00+00:00</th>\n",
       "      <td>When André asked to clean the windshield, the ...</td>\n",
       "      <td>https://scontent-lga3-1.cdninstagram.com/t51.2...</td>\n",
       "      <td>/p/BIWUiQwAoEk/?</td>\n",
       "      <td>7</td>\n",
       "      <td>131</td>\n",
       "    </tr>\n",
       "    <tr>\n",
       "      <th>2016-07-26 01:11:00+00:00</th>\n",
       "      <td>André failed to take pictures for Instagram: t...</td>\n",
       "      <td>https://scontent-lga3-1.cdninstagram.com/t51.2...</td>\n",
       "      <td>/p/BITkgg8g2Lc/?</td>\n",
       "      <td>0</td>\n",
       "      <td>105</td>\n",
       "    </tr>\n",
       "  </tbody>\n",
       "</table>\n",
       "</div>"
      ],
      "text/plain": [
       "                                                                        text  \\\n",
       "date                                                                           \n",
       "2016-08-10 00:37:00+00:00  to dabble in - заниматься чем-либо как хобби, ...   \n",
       "2016-08-06 19:26:00+00:00  Credulous (kreh juh luhs) - too trusting, gull...   \n",
       "2016-07-31 16:22:00+00:00  Kerfuffle [kərˈfəfəl] - a commotion or fuss, e...   \n",
       "2016-07-27 02:50:00+00:00  When André asked to clean the windshield, the ...   \n",
       "2016-07-26 01:11:00+00:00  André failed to take pictures for Instagram: t...   \n",
       "\n",
       "                                                                         img  \\\n",
       "date                                                                           \n",
       "2016-08-10 00:37:00+00:00  https://scontent-lga3-1.cdninstagram.com/t51.2...   \n",
       "2016-08-06 19:26:00+00:00  https://scontent-lga3-1.cdninstagram.com/t51.2...   \n",
       "2016-07-31 16:22:00+00:00  https://scontent-lga3-1.cdninstagram.com/t51.2...   \n",
       "2016-07-27 02:50:00+00:00  https://scontent-lga3-1.cdninstagram.com/t51.2...   \n",
       "2016-07-26 01:11:00+00:00  https://scontent-lga3-1.cdninstagram.com/t51.2...   \n",
       "\n",
       "                                       link  comments  likes  \n",
       "date                                                          \n",
       "2016-08-10 00:37:00+00:00  /p/BI6IhzGAkrm/?         1    127  \n",
       "2016-08-06 19:26:00+00:00  /p/BIx2eFaAf5g/?         4     97  \n",
       "2016-07-31 16:22:00+00:00  /p/BIiEr_nAqwL/?         4    125  \n",
       "2016-07-27 02:50:00+00:00  /p/BIWUiQwAoEk/?         7    131  \n",
       "2016-07-26 01:11:00+00:00  /p/BITkgg8g2Lc/?         0    105  "
      ]
     },
     "execution_count": 273,
     "metadata": {},
     "output_type": "execute_result"
    }
   ],
   "source": [
    "df2.head()"
   ]
  },
  {
   "cell_type": "code",
   "execution_count": 280,
   "metadata": {
    "collapsed": false
   },
   "outputs": [
    {
     "data": {
      "image/png": "[encoded data removed]",
      "text/plain": [
       "<matplotlib.figure.Figure at 0x12267e790>"
      ]
     },
     "metadata": {},
     "output_type": "display_data"
    }
   ],
   "source": [
    "fig, axes = plt.subplots(2, 1, figsize=(18,6))\n",
    "df2['likes'].resample('D').sum().plot(ax=axes[0])\n",
    "df2['comments'].resample('D').sum().plot(ax=axes[1],  c='green' )  # \n",
    "\n",
    "axes[0].set_ylim(0, 350)\n",
    "axes[0].set_title('likes')\n",
    "axes[1].set_title('comments')\n",
    "#plt.suptitle(\"Anna's Instagram metrics\", fontsize=20)\n",
    "plt.tight_layout()\n"
   ]
  },
  {
   "cell_type": "code",
   "execution_count": null,
   "metadata": {
    "collapsed": true
   },
   "outputs": [],
   "source": []
  }
 ],
 "metadata": {
  "kernelspec": {
   "display_name": "Python 2",
   "language": "python",
   "name": "python2"
  },
  "language_info": {
   "codemirror_mode": {
    "name": "ipython",
    "version": 2
   },
   "file_extension": ".py",
   "mimetype": "text/x-python",
   "name": "python",
   "nbconvert_exporter": "python",
   "pygments_lexer": "ipython2",
   "version": "2.7.12"
  }
 },
 "nbformat": 4,
 "nbformat_minor": 0
}
